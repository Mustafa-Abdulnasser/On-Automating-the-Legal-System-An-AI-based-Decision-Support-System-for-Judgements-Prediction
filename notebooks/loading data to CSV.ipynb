{
 "cells": [
  {
   "cell_type": "code",
   "execution_count": 1,
   "id": "56c6c9fc",
   "metadata": {},
   "outputs": [],
   "source": [
    "import numpy as np \n",
    "import pandas as pd \n",
    "import json\n",
    "import os"
   ]
  },
  {
   "cell_type": "code",
   "execution_count": 9,
   "id": "e3a62b6c",
   "metadata": {},
   "outputs": [],
   "source": [
    "def load_data(path):\n",
    "    data = list()\n",
    "    for file in os.scandir(path):\n",
    "        file       = json.load(open(file))\n",
    "        ID         = file['ITEMID']\n",
    "        LAN        = file['LANGUAGEISOCODE']\n",
    "        Respondent = file['RESPONDENT']\n",
    "        Branch     = file['BRANCH']\n",
    "        Date       = file['DATE']\n",
    "        Name       = file['DOCNAME']\n",
    "        Importance = file['IMPORTANCE']\n",
    "        Conclusion = file['CONCLUSION']\n",
    "        Judges     = file['JUDGES']\n",
    "        Text       = file['TEXT']\n",
    "        VIOA       = file['VIOLATED_ARTICLES']\n",
    "        VIOP       = file['VIOLATED_PARAGRAPHS']\n",
    "        VIOB       = file['VIOLATED_BULLETPOINTS']\n",
    "        NON_VIOA   = file['NON_VIOLATED_ARTICLES']\n",
    "        NON_VIOP   = file['NON_VIOLATED_PARAGRAPHS']\n",
    "        NON_VIOB   = file['NON_VIOLATED_BULLETPOINTS']\n",
    "        data.append([ID,LAN,Respondent,Branch,Date,Name,Importance,Conclusion,Judges,Text,VIOA,VIOP,VIOB,NON_VIOA,NON_VIOP,NON_VIOB])\n",
    "    \n",
    "    df = pd.DataFrame(data, columns =['ID','LAN','Respondent','Branch','Date','Name','Importance','Conclusion','Judges','Text','VIOA','VIOP','VIOB','NON_VIOA','NON_VIOP','NON_VIOB'])\n",
    "    return df"
   ]
  },
  {
   "cell_type": "code",
   "execution_count": 11,
   "id": "6bde02a3",
   "metadata": {},
   "outputs": [
    {
     "name": "stdout",
     "output_type": "stream",
     "text": [
      "(7100, 16)\n",
      "(2998, 16)\n",
      "(1380, 16)\n"
     ]
    }
   ],
   "source": [
    "train_df = load_data('../ECHR_Dataset/EN_train')\n",
    "test_df = load_data('../ECHR_Dataset/EN_test')\n",
    "dev_df = load_data('../ECHR_Dataset/EN_dev')\n",
    "print(train_df.shape)\n",
    "print(test_df.shape)\n",
    "print(dev_df.shape)"
   ]
  },
  {
   "cell_type": "code",
   "execution_count": 19,
   "id": "50596d5d",
   "metadata": {},
   "outputs": [
    {
     "data": {
      "text/plain": [
       "(11478, 16)"
      ]
     },
     "execution_count": 19,
     "metadata": {},
     "output_type": "execute_result"
    }
   ],
   "source": [
    "df = pd.concat([train_df,test_df,dev_df],ignore_index=True)\n",
    "df.shape"
   ]
  },
  {
   "cell_type": "code",
   "execution_count": 22,
   "id": "502891f8",
   "metadata": {},
   "outputs": [],
   "source": [
    "train_df.to_csv('train data.csv',index=False)\n",
    "test_df.to_csv('test data.csv',index=False)\n",
    "dev_df.to_csv('dev data.csv',index=False)\n",
    "df.to_csv('data.csv',index=False)"
   ]
  },
  {
   "cell_type": "code",
   "execution_count": 27,
   "id": "e8dd5c82",
   "metadata": {
    "scrolled": false
   },
   "outputs": [
    {
     "data": {
      "text/plain": [
       "['4. The applicants were born in 1976, 1973 and 1999 respectively and live in Yerevan.',\n",
       " '5. According to the applicants, they enjoyed a right of use of accommodation in respect of 33.8 sq. m of a flat which in total measured 66.8 sq. m. and was situated at 17 Byuzand Street, Yerevan. It appears that the flat was owned by their family member, K.H. The Government contested this allegation and claimed that only the applicants Hovhannes Hovhannisyan and Astghik Hovhannisyan (“the first applicant” and “the second applicant”) enjoyed such a right, while the applicant Diana Shiroyan (“the third applicant”), who was a minor, was only entitled to live in the flat in question.',\n",
       " '6. On 1 August 2002 the Government adopted Decree no. 1151-N, approving the expropriation zones of the immovable property (plots of land, buildings and constructions) situated within the administrative boundaries of the Central District of Yerevan to be taken for the needs of the State for the purpose of carrying out construction projects, covering a total area of 345,000 sq. m. Byuzand Street was listed as one of the streets falling within such expropriation zones.',\n",
       " '7. On 17 June 2004 the Government decided to contract out the construction of one of the sections of Byuzand Street – which was to be renamed Main Avenue – to a private company, Vizkon Ltd.',\n",
       " \"8. On 1 October 2004 Vizkon Ltd and the Yerevan Mayor's Office signed an agreement which, inter alia, authorised the former to negotiate directly with the owners of the property subject to expropriation and, should such negotiations fail, to institute court proceedings on behalf of the State, seeking forced expropriation of such property.\",\n",
       " '9. By a letter of 25 February 2005 Vizkon Ltd informed the first and second applicants that the flat in question was situated within the expropriation zone of the Main Avenue area and was to be taken for State needs. Each applicant was offered a total of the Armenian dram (AMD) equivalent of 3,500 United States dollars (USD) as financial assistance, pursuant to paragraphs 7(c) and 8(e) of the compensation procedure approved by Government Decree no. 950 of 5 October 2001 (see paragraphs 26 and 27 below; hereafter, “the compensation procedure”).',\n",
       " '10. It appears that the first and second applicants did not accept this offer.',\n",
       " '11. On an unspecified date, Vizkon Ltd instituted proceedings against the first and second applicants on behalf of the State, seeking to terminate their right of use through payment of financial assistance and to evict all the applicants with reference to, inter alia, Articles 218 and 220 of the Civil Code. The plaintiff claimed that persons enjoying a right of use were entitled, pursuant to paragraph 8 of the compensation procedure, to receive assistance in the Armenian dram equivalent of USD 3,500.',\n",
       " '12. It appears that in the course of the court proceedings Vizkon Ltd offered the same amount of compensation also to the third applicant, since she was also registered at the flat in question. The third applicant joined the proceedings as a co-defendant.',\n",
       " '13. On 2 March 2005 a contract was signed between Vizkon Ltd and the owner of the flat, K.H., according to which she agreed to cede the flat to the State in exchange for another flat. It appears that two other persons who also enjoyed a right of use in respect of the same flat accepted the price offers made to them and gave up their rights.',\n",
       " \"14. On 16 March 2005 the Kentron and Nork-Marash District Court of Yerevan (Երևան քաղաքի Կենտրոն և Նորք-Մարաշ համայնքների աոաջին ատյանի դատարան) granted the claim of Vizkon Ltd, terminating the applicants' right of use and awarding them a total of the Armenian dram equivalent of USD 10,500 as compensation. In doing so, the court referred to Article 218 §§ 1 and 2 and Article 220 § 1 of the Civil Code, as well as paragraph 10 of the compensation procedure.\",\n",
       " '15. On 31 March 2005 the applicants lodged an appeal.',\n",
       " '16. On 3 June 2005 the Civil Court of Appeal (ՀՀ քաղաքացիական գործերով վերաքննիչ դատարան) granted the claim of Vizkon Ltd on the same grounds as the District Court.',\n",
       " '17. On 16 June 2005 another contract was signed between Vizkon Ltd and the owner of the flat, K.H., similar to that of 2 March 2005.',\n",
       " '18. On 21 June 2005 the applicants lodged an appeal on points of law which they supplemented on 15 July 2005.',\n",
       " \"19. On 24 June 2005 the State's ownership in respect of the flat was formally registered on the basis of the contract of 16 June 2005.\",\n",
       " \"20. On 18 July 2005 the Court of Cassation (ՀՀ վճռաբեկ դատարան) dismissed the applicants' appeal.\",\n",
       " '21. For a summary of the relevant domestic provisions see the judgment in the case of Minasyan and Semerjyan v. Armenia (no. 27651/05, §§ 23 and 34-43, 23 June 2009).',\n",
       " '22. According to Article 135, the right of ownership and other property rights in respect of immovable property, their limitations, origin, transfer and termination are subject to State registration.',\n",
       " \"23. According to Article 176, in cases when a right in respect of property is subject to State registration, the acquirer's right of ownership arises from the moment of such registration.\",\n",
       " '24. Article 218 §§ 1 and 2 provided that a plot of land might be taken from the owner for the needs of the State or the community by compensating its value. Depending on for whose needs a plot of land was to be taken, its value was to be compensated by either the State or the community. The decision to take a plot of land for the needs of the State or the community was to be taken by a public authority.',\n",
       " '25. Article 220 § 1 provided that, if no agreement could be reached with the owner of the plot of land to be taken for State needs concerning the amount or other conditions of compensation, the relevant public authority might institute court proceedings seeking to take the plot of land.',\n",
       " \"26. According to paragraph 7(c) of the compensation procedure, persons and their minor children – who were registered, including in unauthorised constructions, prior to the date on which State registration was made (28 August 2001) on the basis of the competent public authority's decision to take the plot of land for the needs of the State – shall each receive assistance in the amount of the Armenian dram equivalent of USD 2,000, based on the document confirming the fact of registration (passport, birth certificate or a certificate provided by the competent authority in charge of the registration).\",\n",
       " '27. According to paragraph 8(e) of the compensation procedure, persons mentioned in Paragraph 7(c) of this Procedure shall receive assistance in the amount of the Armenian dram equivalent of USD 1,500.',\n",
       " '28. According to paragraph 10 of the compensation procedure, persons who have acquired a right of use or of lease in accordance with the procedure prescribed by law in respect of a plot of land situated in an expropriation zone shall receive as compensation the assessed value of the right of use or of lease of the given plot of land.']"
      ]
     },
     "execution_count": 27,
     "metadata": {},
     "output_type": "execute_result"
    }
   ],
   "source": [
    "df.Text[1]"
   ]
  },
  {
   "cell_type": "code",
   "execution_count": null,
   "id": "44b00254",
   "metadata": {},
   "outputs": [],
   "source": []
  }
 ],
 "metadata": {
  "kernelspec": {
   "display_name": "Python 3 (ipykernel)",
   "language": "python",
   "name": "python3"
  },
  "language_info": {
   "codemirror_mode": {
    "name": "ipython",
    "version": 3
   },
   "file_extension": ".py",
   "mimetype": "text/x-python",
   "name": "python",
   "nbconvert_exporter": "python",
   "pygments_lexer": "ipython3",
   "version": "3.9.13"
  }
 },
 "nbformat": 4,
 "nbformat_minor": 5
}
